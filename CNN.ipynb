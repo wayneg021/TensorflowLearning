{
 "cells": [
  {
   "cell_type": "code",
   "execution_count": 4,
   "metadata": {
    "collapsed": true
   },
   "outputs": [],
   "source": [
    "import tensorflow as tf\n",
    "from __future__ import division, print_function, absolute_import\n",
    "from tensorflow.examples.tutorials.mnist import input_data"
   ]
  },
  {
   "cell_type": "code",
   "execution_count": 5,
   "metadata": {},
   "outputs": [
    {
     "name": "stdout",
     "output_type": "stream",
     "text": [
      "Extracting /tmp/data/train-images-idx3-ubyte.gz\n",
      "Extracting /tmp/data/train-labels-idx1-ubyte.gz\n",
      "Extracting /tmp/data/t10k-images-idx3-ubyte.gz\n",
      "Extracting /tmp/data/t10k-labels-idx1-ubyte.gz\n"
     ]
    }
   ],
   "source": [
    "mnist = input_data.read_data_sets(\"/tmp/data/\", one_hot=False)"
   ]
  },
  {
   "cell_type": "code",
   "execution_count": 28,
   "metadata": {
    "collapsed": true
   },
   "outputs": [],
   "source": [
    "learning_rate = 0.001\n",
    "num_steps = 2000\n",
    "batch_size = 128\n",
    "\n",
    "num_input = 784\n",
    "num_class = 10\n",
    "dropout =0.75\n",
    "\n",
    "def conv_net(x_dict, n_classes, dropout, reuse, is_training):\n",
    "    with tf.variable_scope('ConvNet', reuse=reuse):\n",
    "        x = x_dict['images']\n",
    "        \n",
    "        x = tf.reshape(x, shape=[-1, 28, 28, 1])\n",
    "        \n",
    "        conv1 = tf.layers.conv2d(x, 32, 5, activation=tf.nn.relu)\n",
    "        conv1 = tf.layers.max_pooling2d(conv1, 2, 2)\n",
    "        \n",
    "        conv2 = tf.layers.conv2d(conv1, 64, 3, activation=tf.nn.relu)\n",
    "        conv2 = tf.layers.max_pooling2d(conv2, 2, 2)\n",
    "        \n",
    "        fc1 = tf.contrib.layers.flatten(conv2)\n",
    "        \n",
    "        fc1 = tf.layers.dense(fc1, 1024)\n",
    "        fc1 = tf.layers.dropout(fc1, rate=dropout, training=is_training)\n",
    "        \n",
    "        out = tf.layers.dense(fc1, n_classes)\n",
    "        \n",
    "    return out"
   ]
  },
  {
   "cell_type": "code",
   "execution_count": 29,
   "metadata": {
    "collapsed": true
   },
   "outputs": [],
   "source": [
    "def model_fn(features, labels, mode):\n",
    "    logits_train = conv_net(features, num_class, dropout, reuse=False, is_training=True)\n",
    "    logits_test = conv_net(features, num_class, dropout, reuse=True, is_training=False)\n",
    "    \n",
    "    pred_classes = tf.argmax(logits_test, axis=1)\n",
    "    pred_probas = tf.nn.softmax(logits_test)\n",
    "    \n",
    "    if mode == tf.estimator.ModeKeys.PREDICT:\n",
    "        return tf.estimator.EstimatorSpec(mode, predictions=pred_classes)\n",
    "    \n",
    "    loss_op = tf.reduce_mean(tf.nn.sparse_softmax_cross_entropy_with_logits(\n",
    "        logits=logits_train, labels=tf.cast(labels, dtype=tf.int32)))\n",
    "    optimizer = tf.train.AdamOptimizer(learning_rate=learning_rate)\n",
    "    train_op = optimizer.minimize(loss_op,\n",
    "                                  global_step=tf.train.get_global_step())\n",
    "    \n",
    "    acc_op = tf.metrics.accuracy(labels=labels, predictions=pred_classes)\n",
    "    \n",
    "    estim_specs = tf.estimator.EstimatorSpec(\n",
    "        mode=mode,\n",
    "        predictions=pred_classes,\n",
    "        train_op=train_op,\n",
    "        loss=loss_op,\n",
    "        eval_metric_ops={'accuracy': acc_op})\n",
    "    \n",
    "    return estim_specs\n",
    "        "
   ]
  },
  {
   "cell_type": "code",
   "execution_count": 30,
   "metadata": {},
   "outputs": [
    {
     "name": "stdout",
     "output_type": "stream",
     "text": [
      "INFO:tensorflow:Using default config.\n",
      "WARNING:tensorflow:Using temporary folder as model directory: C:\\Users\\Wayne-PC\\AppData\\Local\\Temp\\tmp_2h4u8e1\n",
      "INFO:tensorflow:Using config: {'_model_dir': 'C:\\\\Users\\\\Wayne-PC\\\\AppData\\\\Local\\\\Temp\\\\tmp_2h4u8e1', '_tf_random_seed': 1, '_save_summary_steps': 100, '_save_checkpoints_secs': 600, '_save_checkpoints_steps': None, '_session_config': None, '_keep_checkpoint_max': 5, '_keep_checkpoint_every_n_hours': 10000, '_log_step_count_steps': 100}\n",
      "INFO:tensorflow:Create CheckpointSaverHook.\n",
      "INFO:tensorflow:Saving checkpoints for 1 into C:\\Users\\Wayne-PC\\AppData\\Local\\Temp\\tmp_2h4u8e1\\model.ckpt.\n",
      "INFO:tensorflow:loss = 2.38635, step = 1\n",
      "INFO:tensorflow:global_step/sec: 207.827\n",
      "INFO:tensorflow:loss = 0.278482, step = 101 (0.482 sec)\n",
      "INFO:tensorflow:global_step/sec: 214.698\n",
      "INFO:tensorflow:loss = 0.132922, step = 201 (0.466 sec)\n",
      "INFO:tensorflow:global_step/sec: 211.757\n",
      "INFO:tensorflow:loss = 0.108765, step = 301 (0.472 sec)\n",
      "INFO:tensorflow:global_step/sec: 214.055\n",
      "INFO:tensorflow:loss = 0.0917427, step = 401 (0.467 sec)\n",
      "INFO:tensorflow:Saving checkpoints for 430 into C:\\Users\\Wayne-PC\\AppData\\Local\\Temp\\tmp_2h4u8e1\\model.ckpt.\n",
      "INFO:tensorflow:Loss for final step: 0.26765.\n",
      "INFO:tensorflow:Create CheckpointSaverHook.\n",
      "INFO:tensorflow:Restoring parameters from C:\\Users\\Wayne-PC\\AppData\\Local\\Temp\\tmp_2h4u8e1\\model.ckpt-430\n",
      "INFO:tensorflow:Saving checkpoints for 431 into C:\\Users\\Wayne-PC\\AppData\\Local\\Temp\\tmp_2h4u8e1\\model.ckpt.\n",
      "INFO:tensorflow:loss = 0.0299254, step = 431\n",
      "INFO:tensorflow:Saving checkpoints for 509 into C:\\Users\\Wayne-PC\\AppData\\Local\\Temp\\tmp_2h4u8e1\\model.ckpt.\n",
      "INFO:tensorflow:Loss for final step: 0.00065261.\n",
      "INFO:tensorflow:Starting evaluation at 2017-09-16-01:31:14\n",
      "INFO:tensorflow:Restoring parameters from C:\\Users\\Wayne-PC\\AppData\\Local\\Temp\\tmp_2h4u8e1\\model.ckpt-509\n",
      "INFO:tensorflow:Finished evaluation at 2017-09-16-01:31:14\n",
      "INFO:tensorflow:Saving dict for global step 509: accuracy = 0.9887, global_step = 509, loss = 0.0134193\n",
      "Testing Accuracy: 0.9887\n"
     ]
    }
   ],
   "source": [
    "model = tf.estimator.Estimator(model_fn)\n",
    "\n",
    "input_fn = tf.estimator.inputs.numpy_input_fn(\n",
    "    x={'images': mnist.train.images}, y=mnist.train.labels,\n",
    "    batch_size=batch_size, shuffle=False)\n",
    "model.train(input_fn, steps=num_steps)\n",
    "\n",
    "input_fn = tf.estimator.inputs.numpy_input_fn(\n",
    "    x={'images': mnist.test.images}, y=mnist.test.labels,\n",
    "    batch_size=batch_size, shuffle=False)\n",
    "model.train(input_fn, steps=num_steps)\n",
    "e = model.evaluate(input_fn)\n",
    "\n",
    "print(\"Testing Accuracy:\", e['accuracy'])"
   ]
  },
  {
   "cell_type": "code",
   "execution_count": null,
   "metadata": {
    "collapsed": true
   },
   "outputs": [],
   "source": []
  }
 ],
 "metadata": {
  "kernelspec": {
   "display_name": "Python 3",
   "language": "python",
   "name": "python3"
  },
  "language_info": {
   "codemirror_mode": {
    "name": "ipython",
    "version": 3
   },
   "file_extension": ".py",
   "mimetype": "text/x-python",
   "name": "python",
   "nbconvert_exporter": "python",
   "pygments_lexer": "ipython3",
   "version": "3.6.2"
  }
 },
 "nbformat": 4,
 "nbformat_minor": 2
}
